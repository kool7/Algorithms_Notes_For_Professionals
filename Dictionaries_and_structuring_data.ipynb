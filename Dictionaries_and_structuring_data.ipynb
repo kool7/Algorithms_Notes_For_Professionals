{
  "nbformat": 4,
  "nbformat_minor": 0,
  "metadata": {
    "colab": {
      "name": "Dictionaries_and_structuring_data.ipynb",
      "provenance": [],
      "collapsed_sections": [
        "kC5CwdSEFhm9"
      ],
      "include_colab_link": true
    },
    "kernelspec": {
      "name": "python3",
      "display_name": "Python 3"
    }
  },
  "cells": [
    {
      "cell_type": "markdown",
      "metadata": {
        "id": "view-in-github",
        "colab_type": "text"
      },
      "source": [
        "<a href=\"https://colab.research.google.com/github/kool7/Algorithms_Notes_For_Professionals/blob/master/Dictionaries_and_structuring_data.ipynb\" target=\"_parent\"><img src=\"https://colab.research.google.com/assets/colab-badge.svg\" alt=\"Open In Colab\"/></a>"
      ]
    },
    {
      "cell_type": "markdown",
      "metadata": {
        "id": "kC5CwdSEFhm9",
        "colab_type": "text"
      },
      "source": [
        "# Python Dictionary"
      ]
    },
    {
      "cell_type": "code",
      "metadata": {
        "id": "nUZknr0fRsAU",
        "colab_type": "code",
        "outputId": "b05296f2-5df9-4bc7-91c6-1323d739fad8",
        "colab": {
          "base_uri": "https://localhost:8080/",
          "height": 34
        }
      },
      "source": [
        "# Python dictionary\n",
        "\n",
        "myCat = {'size': 'fat',\n",
        "        'color': 'gray',\n",
        "        'disposition': 'loud'}\n",
        "myCat"
      ],
      "execution_count": 0,
      "outputs": [
        {
          "output_type": "execute_result",
          "data": {
            "text/plain": [
              "{'color': 'gray', 'disposition': 'loud', 'size': 'fat'}"
            ]
          },
          "metadata": {
            "tags": []
          },
          "execution_count": 21
        }
      ]
    },
    {
      "cell_type": "code",
      "metadata": {
        "id": "oyECfsHiTrbb",
        "colab_type": "code",
        "outputId": "76847f7e-f9b1-4cba-dc11-6f8704302dce",
        "colab": {
          "base_uri": "https://localhost:8080/",
          "height": 50
        }
      },
      "source": [
        "# Program dictionary update.\n",
        "\n",
        "birthdays = {'Pavan': 'Sep 17', 'Chetan': 'Jan 24', 'Kuldeep': 'June 7'}\n",
        "\n",
        "while True:\n",
        "  print('Enter a name: (blank to quit)')\n",
        "  name = input()\n",
        "  if name == '':\n",
        "    break\n",
        "    \n",
        "  if name in birthdays:\n",
        "    print(birthdays[name] + ' is the birthday of ' + name)\n",
        "  else:\n",
        "    print('I do not have bithday information for ' + name)\n",
        "    print('What is their birthday?')\n",
        "    bday = input()\n",
        "    birthdays[name] = bday\n",
        "    print('Birthday database updated.')\n",
        "\n"
      ],
      "execution_count": 0,
      "outputs": [
        {
          "output_type": "stream",
          "text": [
            "Enter a name: (blank to quit)\n",
            "\n"
          ],
          "name": "stdout"
        }
      ]
    },
    {
      "cell_type": "markdown",
      "metadata": {
        "id": "-bC9ncxQPYuL",
        "colab_type": "text"
      },
      "source": [
        "# Python Methods."
      ]
    },
    {
      "cell_type": "code",
      "metadata": {
        "id": "L2pyDWa7HggI",
        "colab_type": "code",
        "outputId": "6c3249de-98e4-45b4-f440-9018b9ff61ad",
        "colab": {
          "base_uri": "https://localhost:8080/",
          "height": 67
        }
      },
      "source": [
        "# values methods\n",
        "\n",
        "info = {'Name': 'Kuldeep Singh Chouhan', 'Age': '22', 'DOB': '7 June 1997'}\n",
        "\n",
        "for v in info.values():\n",
        "  print(v)"
      ],
      "execution_count": 0,
      "outputs": [
        {
          "output_type": "stream",
          "text": [
            "Kuldeep Singh Chouhan\n",
            "22\n",
            "7 June 1997\n"
          ],
          "name": "stdout"
        }
      ]
    },
    {
      "cell_type": "code",
      "metadata": {
        "id": "-6tFckgdQO1b",
        "colab_type": "code",
        "outputId": "b283bf97-efc1-41bd-d52b-1f6f541ecc99",
        "colab": {
          "base_uri": "https://localhost:8080/",
          "height": 67
        }
      },
      "source": [
        "# keys() meythod\n",
        "\n",
        "for k in list(info.keys()):\n",
        "  print(k)"
      ],
      "execution_count": 0,
      "outputs": [
        {
          "output_type": "stream",
          "text": [
            "Name\n",
            "Age\n",
            "DOB\n"
          ],
          "name": "stdout"
        }
      ]
    },
    {
      "cell_type": "code",
      "metadata": {
        "id": "5tvbWlFBQdpq",
        "colab_type": "code",
        "outputId": "4286af78-4a03-4846-fac8-5847f0e118a1",
        "colab": {
          "base_uri": "https://localhost:8080/",
          "height": 67
        }
      },
      "source": [
        "# items() method.\n",
        "\n",
        "for i in info.items():\n",
        "  print(i)"
      ],
      "execution_count": 0,
      "outputs": [
        {
          "output_type": "stream",
          "text": [
            "('Name', 'Kuldeep Singh Chouhan')\n",
            "('Age', '22')\n",
            "('DOB', '7 June 1997')\n"
          ],
          "name": "stdout"
        }
      ]
    },
    {
      "cell_type": "code",
      "metadata": {
        "id": "wrRIvqknQm1k",
        "colab_type": "code",
        "outputId": "e156ce68-3b17-4194-f0af-47ce515ceb61",
        "colab": {
          "base_uri": "https://localhost:8080/",
          "height": 67
        }
      },
      "source": [
        "# Multiple assignments.\n",
        "\n",
        "for k, v in info.items():\n",
        "  print('Keys: ' + k + ', Values: ' + v )"
      ],
      "execution_count": 0,
      "outputs": [
        {
          "output_type": "stream",
          "text": [
            "Keys: Name, Values: Kuldeep Singh Chouhan\n",
            "Keys: Age, Values: 22\n",
            "Keys: DOB, Values: 7 June 1997\n"
          ],
          "name": "stdout"
        }
      ]
    },
    {
      "cell_type": "markdown",
      "metadata": {
        "id": "jdHPorkSSxT8",
        "colab_type": "text"
      },
      "source": [
        "# Checking whether a key or value exist in a dictionary"
      ]
    },
    {
      "cell_type": "code",
      "metadata": {
        "id": "flJTVXEySKt0",
        "colab_type": "code",
        "outputId": "7a78e3b5-d5cb-4cf3-a917-381de56358f0",
        "colab": {
          "base_uri": "https://localhost:8080/",
          "height": 34
        }
      },
      "source": [
        "'Name' in info.keys()"
      ],
      "execution_count": 0,
      "outputs": [
        {
          "output_type": "execute_result",
          "data": {
            "text/plain": [
              "True"
            ]
          },
          "metadata": {
            "tags": []
          },
          "execution_count": 30
        }
      ]
    },
    {
      "cell_type": "code",
      "metadata": {
        "id": "TO4i89XhcuXg",
        "colab_type": "code",
        "outputId": "12a09d86-1ec2-4b73-9621-877cbc3a6db5",
        "colab": {
          "base_uri": "https://localhost:8080/",
          "height": 34
        }
      },
      "source": [
        "'Kuldeep Singh Chouhan' in info.values()"
      ],
      "execution_count": 0,
      "outputs": [
        {
          "output_type": "execute_result",
          "data": {
            "text/plain": [
              "True"
            ]
          },
          "metadata": {
            "tags": []
          },
          "execution_count": 31
        }
      ]
    },
    {
      "cell_type": "markdown",
      "metadata": {
        "id": "Hq98rFESeAPK",
        "colab_type": "text"
      },
      "source": [
        "# The get() method\n",
        "\n",
        "It’s tedious to check whether a key exists in a dictionary before accessing that key’s value. Fortunately, dictionaries have a get() method that takes two arguments: the key of the value to retrieve and a fallback value to return if that key does not exist."
      ]
    },
    {
      "cell_type": "code",
      "metadata": {
        "id": "73SN-RFVc1Lj",
        "colab_type": "code",
        "colab": {}
      },
      "source": [
        "fruits = {'apples': 5, \n",
        "          'cups': 2,\n",
        "          'bananas': 12,\n",
        "          'Oranges': 6}"
      ],
      "execution_count": 0,
      "outputs": []
    },
    {
      "cell_type": "code",
      "metadata": {
        "id": "I6m0T12JekRk",
        "colab_type": "code",
        "colab": {
          "base_uri": "https://localhost:8080/",
          "height": 34
        },
        "outputId": "819d83f5-1c00-41f8-9f6e-463aee628780"
      },
      "source": [
        "'I am bringing ' + str(fruits.get('apples', 0)) + ' cups.'"
      ],
      "execution_count": 34,
      "outputs": [
        {
          "output_type": "execute_result",
          "data": {
            "text/plain": [
              "'I am bringing 5 cups.'"
            ]
          },
          "metadata": {
            "tags": []
          },
          "execution_count": 34
        }
      ]
    },
    {
      "cell_type": "markdown",
      "metadata": {
        "id": "K44cYikNfN-q",
        "colab_type": "text"
      },
      "source": [
        "# The setdefault() method."
      ]
    },
    {
      "cell_type": "code",
      "metadata": {
        "id": "PEnBw3tAezua",
        "colab_type": "code",
        "colab": {
          "base_uri": "https://localhost:8080/",
          "height": 84
        },
        "outputId": "261c272f-7730-47d0-ffc6-97113b51ea54"
      },
      "source": [
        "info.setdefault('Gender', 'Male')\n",
        "info"
      ],
      "execution_count": 38,
      "outputs": [
        {
          "output_type": "execute_result",
          "data": {
            "text/plain": [
              "{'Age': '22',\n",
              " 'DOB': '7 June 1997',\n",
              " 'Gender': 'Male',\n",
              " 'Name': 'Kuldeep Singh Chouhan'}"
            ]
          },
          "metadata": {
            "tags": []
          },
          "execution_count": 38
        }
      ]
    },
    {
      "cell_type": "markdown",
      "metadata": {
        "id": "e7T6X1nFj1AK",
        "colab_type": "text"
      },
      "source": [
        "**Program to count the number of occurences of each letter in a string.**"
      ]
    },
    {
      "cell_type": "code",
      "metadata": {
        "id": "kMJVW00QhM5v",
        "colab_type": "code",
        "colab": {
          "base_uri": "https://localhost:8080/",
          "height": 403
        },
        "outputId": "b3cc6e26-5459-4da0-9891-ea456809e603"
      },
      "source": [
        "import pprint\n",
        "# Program\n",
        "\n",
        "message = 'It was a bright cold day in April, and the clocks were striking thirteen.'\n",
        "\n",
        "count = {}\n",
        "\n",
        "for character in message:\n",
        "  count.setdefault(character, 0)\n",
        "  count[character] = count[character] + 1\n",
        "  \n",
        "pprint.pprint(count)"
      ],
      "execution_count": 42,
      "outputs": [
        {
          "output_type": "stream",
          "text": [
            "{' ': 13,\n",
            " ',': 1,\n",
            " '.': 1,\n",
            " 'A': 1,\n",
            " 'I': 1,\n",
            " 'a': 4,\n",
            " 'b': 1,\n",
            " 'c': 3,\n",
            " 'd': 3,\n",
            " 'e': 5,\n",
            " 'g': 2,\n",
            " 'h': 3,\n",
            " 'i': 6,\n",
            " 'k': 2,\n",
            " 'l': 3,\n",
            " 'n': 4,\n",
            " 'o': 2,\n",
            " 'p': 1,\n",
            " 'r': 5,\n",
            " 's': 3,\n",
            " 't': 6,\n",
            " 'w': 2,\n",
            " 'y': 1}\n"
          ],
          "name": "stdout"
        }
      ]
    },
    {
      "cell_type": "markdown",
      "metadata": {
        "id": "GXYuSRzgmPEQ",
        "colab_type": "text"
      },
      "source": [
        "**Program for tic-tak-toe game.**"
      ]
    },
    {
      "cell_type": "code",
      "metadata": {
        "id": "fIKbmwT-kYZH",
        "colab_type": "code",
        "colab": {
          "base_uri": "https://localhost:8080/",
          "height": 1000
        },
        "outputId": "791c12a0-356d-4ebd-e711-95e8bd368880"
      },
      "source": [
        "theBoard = {'top-L': ' ', 'top-M': ' ', 'top-R': ' ',\n",
        "            'mid-L': ' ', 'mid-M': ' ', 'mid-R': ' ',\n",
        "            'low-L': ' ', 'low-M': ' ', 'low-R': ' '}\n",
        "\n",
        "def printBoard(board):\n",
        "    print(board['top-L'] + '|' + board['top-M'] + '|' + board['top-R'])\n",
        "    print('-+-+-')\n",
        "    print(board['mid-L'] + '|' + board['mid-M'] + '|' + board['mid-R'])\n",
        "    print('-+-+-')\n",
        "    print(board['low-L'] + '|' + board['low-M'] + '|' + board['low-R'])\n",
        "\n",
        "    \n",
        "\n",
        "turn = 'X'\n",
        "for i in range(9):\n",
        "  printBoard(theBoard)\n",
        "  print('Turn for ' + turn + '. Move on which space?')\n",
        "  move = input()\n",
        "  theBoard[move] = turn\n",
        "  if turn == 'X':\n",
        "    turn = 'O'\n",
        "  else:\n",
        "    turn = 'X'\n",
        "    \n",
        "printBoard(theBoard)"
      ],
      "execution_count": 48,
      "outputs": [
        {
          "output_type": "stream",
          "text": [
            " | | \n",
            "-+-+-\n",
            " | | \n",
            "-+-+-\n",
            " | | \n",
            "Turn for X. Move on which space?\n",
            "mid-M\n",
            " | | \n",
            "-+-+-\n",
            " |X| \n",
            "-+-+-\n",
            " | | \n",
            "Turn for O. Move on which space?\n",
            "top-L\n",
            "O| | \n",
            "-+-+-\n",
            " |X| \n",
            "-+-+-\n",
            " | | \n",
            "Turn for X. Move on which space?\n",
            "mid-L\n",
            "O| | \n",
            "-+-+-\n",
            "X|X| \n",
            "-+-+-\n",
            " | | \n",
            "Turn for O. Move on which space?\n",
            "mid-R\n",
            "O| | \n",
            "-+-+-\n",
            "X|X|O\n",
            "-+-+-\n",
            " | | \n",
            "Turn for X. Move on which space?\n",
            "top-M\n",
            "O|X| \n",
            "-+-+-\n",
            "X|X|O\n",
            "-+-+-\n",
            " | | \n",
            "Turn for O. Move on which space?\n",
            "low-M\n",
            "O|X| \n",
            "-+-+-\n",
            "X|X|O\n",
            "-+-+-\n",
            " |O| \n",
            "Turn for X. Move on which space?\n",
            "low-L\n",
            "O|X| \n",
            "-+-+-\n",
            "X|X|O\n",
            "-+-+-\n",
            "X|O| \n",
            "Turn for O. Move on which space?\n",
            "top-R\n",
            "O|X|O\n",
            "-+-+-\n",
            "X|X|O\n",
            "-+-+-\n",
            "X|O| \n",
            "Turn for X. Move on which space?\n",
            "low-R\n",
            "O|X|O\n",
            "-+-+-\n",
            "X|X|O\n",
            "-+-+-\n",
            "X|O|X\n"
          ],
          "name": "stdout"
        }
      ]
    },
    {
      "cell_type": "code",
      "metadata": {
        "id": "BoWZIA6JoeO3",
        "colab_type": "code",
        "colab": {
          "base_uri": "https://localhost:8080/",
          "height": 34
        },
        "outputId": "185cd44e-d347-43d8-810b-27e851858925"
      },
      "source": [
        ""
      ],
      "execution_count": 52,
      "outputs": [
        {
          "output_type": "stream",
          "text": [
            "Hello!\n"
          ],
          "name": "stdout"
        }
      ]
    },
    {
      "cell_type": "code",
      "metadata": {
        "id": "6RojRZWwApsl",
        "colab_type": "code",
        "colab": {}
      },
      "source": [
        ""
      ],
      "execution_count": 0,
      "outputs": []
    }
  ]
}